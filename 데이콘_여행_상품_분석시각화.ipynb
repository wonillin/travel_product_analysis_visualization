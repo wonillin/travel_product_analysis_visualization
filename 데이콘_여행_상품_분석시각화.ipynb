{
 "cells": [
  {
   "cell_type": "markdown",
   "id": "cfe2d2aa-be6e-4b65-b2f6-bddd5caea726",
   "metadata": {},
   "source": [
    "## I. 데이터 준비"
   ]
  },
  {
   "cell_type": "code",
   "execution_count": 66,
   "id": "41af62dd-b8c6-4ce7-bc7f-bcbd27f22f4e",
   "metadata": {},
   "outputs": [],
   "source": [
    "import pandas as pd\n",
    "import numpy as np\n",
    "\n",
    "import seaborn as sns\n",
    "import matplotlib.pyplot as plt\n",
    "\n",
    "import warnings\n",
    "warnings.filterwarnings('ignore')\n",
    "%matplotlib inline\n",
    "import datetime as dt"
   ]
  },
  {
   "cell_type": "markdown",
   "id": "9bd5552e-85cc-4078-85ef-309245e3b4e3",
   "metadata": {},
   "source": [
    "### 1.1 데이터 확인"
   ]
  },
  {
   "cell_type": "code",
   "execution_count": 67,
   "id": "651f10b5-ee8b-4e0f-97a8-853a931f48d6",
   "metadata": {},
   "outputs": [
    {
     "data": {
      "text/html": [
       "<div>\n",
       "<style scoped>\n",
       "    .dataframe tbody tr th:only-of-type {\n",
       "        vertical-align: middle;\n",
       "    }\n",
       "\n",
       "    .dataframe tbody tr th {\n",
       "        vertical-align: top;\n",
       "    }\n",
       "\n",
       "    .dataframe thead th {\n",
       "        text-align: right;\n",
       "    }\n",
       "</style>\n",
       "<table border=\"1\" class=\"dataframe\">\n",
       "  <thead>\n",
       "    <tr style=\"text-align: right;\">\n",
       "      <th></th>\n",
       "      <th>id</th>\n",
       "      <th>Age</th>\n",
       "      <th>TypeofContact</th>\n",
       "      <th>CityTier</th>\n",
       "      <th>DurationOfPitch</th>\n",
       "      <th>Occupation</th>\n",
       "      <th>Gender</th>\n",
       "      <th>NumberOfPersonVisiting</th>\n",
       "      <th>NumberOfFollowups</th>\n",
       "      <th>ProductPitched</th>\n",
       "      <th>PreferredPropertyStar</th>\n",
       "      <th>MaritalStatus</th>\n",
       "      <th>NumberOfTrips</th>\n",
       "      <th>Passport</th>\n",
       "      <th>PitchSatisfactionScore</th>\n",
       "      <th>OwnCar</th>\n",
       "      <th>NumberOfChildrenVisiting</th>\n",
       "      <th>Designation</th>\n",
       "      <th>MonthlyIncome</th>\n",
       "      <th>ProdTaken</th>\n",
       "    </tr>\n",
       "  </thead>\n",
       "  <tbody>\n",
       "    <tr>\n",
       "      <th>0</th>\n",
       "      <td>1</td>\n",
       "      <td>28.0</td>\n",
       "      <td>Company Invited</td>\n",
       "      <td>1</td>\n",
       "      <td>10.0</td>\n",
       "      <td>Small Business</td>\n",
       "      <td>Male</td>\n",
       "      <td>3</td>\n",
       "      <td>4.0</td>\n",
       "      <td>Basic</td>\n",
       "      <td>3.0</td>\n",
       "      <td>Married</td>\n",
       "      <td>3.0</td>\n",
       "      <td>0</td>\n",
       "      <td>1</td>\n",
       "      <td>0</td>\n",
       "      <td>1.0</td>\n",
       "      <td>Executive</td>\n",
       "      <td>20384.0</td>\n",
       "      <td>0</td>\n",
       "    </tr>\n",
       "    <tr>\n",
       "      <th>1</th>\n",
       "      <td>2</td>\n",
       "      <td>34.0</td>\n",
       "      <td>Self Enquiry</td>\n",
       "      <td>3</td>\n",
       "      <td>NaN</td>\n",
       "      <td>Small Business</td>\n",
       "      <td>Female</td>\n",
       "      <td>2</td>\n",
       "      <td>4.0</td>\n",
       "      <td>Deluxe</td>\n",
       "      <td>4.0</td>\n",
       "      <td>Single</td>\n",
       "      <td>1.0</td>\n",
       "      <td>1</td>\n",
       "      <td>5</td>\n",
       "      <td>1</td>\n",
       "      <td>0.0</td>\n",
       "      <td>Manager</td>\n",
       "      <td>19599.0</td>\n",
       "      <td>1</td>\n",
       "    </tr>\n",
       "    <tr>\n",
       "      <th>2</th>\n",
       "      <td>3</td>\n",
       "      <td>45.0</td>\n",
       "      <td>Company Invited</td>\n",
       "      <td>1</td>\n",
       "      <td>NaN</td>\n",
       "      <td>Salaried</td>\n",
       "      <td>Male</td>\n",
       "      <td>2</td>\n",
       "      <td>3.0</td>\n",
       "      <td>Deluxe</td>\n",
       "      <td>4.0</td>\n",
       "      <td>Married</td>\n",
       "      <td>2.0</td>\n",
       "      <td>0</td>\n",
       "      <td>4</td>\n",
       "      <td>1</td>\n",
       "      <td>0.0</td>\n",
       "      <td>Manager</td>\n",
       "      <td>NaN</td>\n",
       "      <td>0</td>\n",
       "    </tr>\n",
       "    <tr>\n",
       "      <th>3</th>\n",
       "      <td>4</td>\n",
       "      <td>29.0</td>\n",
       "      <td>Company Invited</td>\n",
       "      <td>1</td>\n",
       "      <td>7.0</td>\n",
       "      <td>Small Business</td>\n",
       "      <td>Male</td>\n",
       "      <td>3</td>\n",
       "      <td>5.0</td>\n",
       "      <td>Basic</td>\n",
       "      <td>4.0</td>\n",
       "      <td>Married</td>\n",
       "      <td>3.0</td>\n",
       "      <td>0</td>\n",
       "      <td>4</td>\n",
       "      <td>0</td>\n",
       "      <td>1.0</td>\n",
       "      <td>Executive</td>\n",
       "      <td>21274.0</td>\n",
       "      <td>1</td>\n",
       "    </tr>\n",
       "    <tr>\n",
       "      <th>4</th>\n",
       "      <td>5</td>\n",
       "      <td>42.0</td>\n",
       "      <td>Self Enquiry</td>\n",
       "      <td>3</td>\n",
       "      <td>6.0</td>\n",
       "      <td>Salaried</td>\n",
       "      <td>Male</td>\n",
       "      <td>2</td>\n",
       "      <td>3.0</td>\n",
       "      <td>Deluxe</td>\n",
       "      <td>3.0</td>\n",
       "      <td>Divorced</td>\n",
       "      <td>2.0</td>\n",
       "      <td>0</td>\n",
       "      <td>3</td>\n",
       "      <td>1</td>\n",
       "      <td>0.0</td>\n",
       "      <td>Manager</td>\n",
       "      <td>19907.0</td>\n",
       "      <td>0</td>\n",
       "    </tr>\n",
       "  </tbody>\n",
       "</table>\n",
       "</div>"
      ],
      "text/plain": [
       "   id   Age    TypeofContact  CityTier  DurationOfPitch      Occupation  \\\n",
       "0   1  28.0  Company Invited         1             10.0  Small Business   \n",
       "1   2  34.0     Self Enquiry         3              NaN  Small Business   \n",
       "2   3  45.0  Company Invited         1              NaN        Salaried   \n",
       "3   4  29.0  Company Invited         1              7.0  Small Business   \n",
       "4   5  42.0     Self Enquiry         3              6.0        Salaried   \n",
       "\n",
       "   Gender  NumberOfPersonVisiting  NumberOfFollowups ProductPitched  \\\n",
       "0    Male                       3                4.0          Basic   \n",
       "1  Female                       2                4.0         Deluxe   \n",
       "2    Male                       2                3.0         Deluxe   \n",
       "3    Male                       3                5.0          Basic   \n",
       "4    Male                       2                3.0         Deluxe   \n",
       "\n",
       "   PreferredPropertyStar MaritalStatus  NumberOfTrips  Passport  \\\n",
       "0                    3.0       Married            3.0         0   \n",
       "1                    4.0        Single            1.0         1   \n",
       "2                    4.0       Married            2.0         0   \n",
       "3                    4.0       Married            3.0         0   \n",
       "4                    3.0      Divorced            2.0         0   \n",
       "\n",
       "   PitchSatisfactionScore  OwnCar  NumberOfChildrenVisiting Designation  \\\n",
       "0                       1       0                       1.0   Executive   \n",
       "1                       5       1                       0.0     Manager   \n",
       "2                       4       1                       0.0     Manager   \n",
       "3                       4       0                       1.0   Executive   \n",
       "4                       3       1                       0.0     Manager   \n",
       "\n",
       "   MonthlyIncome  ProdTaken  \n",
       "0        20384.0          0  \n",
       "1        19599.0          1  \n",
       "2            NaN          0  \n",
       "3        21274.0          1  \n",
       "4        19907.0          0  "
      ]
     },
     "execution_count": 67,
     "metadata": {},
     "output_type": "execute_result"
    }
   ],
   "source": [
    "train = pd.read_csv('train.csv')\n",
    "train.head()"
   ]
  },
  {
   "cell_type": "code",
   "execution_count": 68,
   "id": "c76955a5-4afa-4f0e-97bc-522b2022c146",
   "metadata": {},
   "outputs": [
    {
     "name": "stdout",
     "output_type": "stream",
     "text": [
      "<class 'pandas.core.frame.DataFrame'>\n",
      "RangeIndex: 1955 entries, 0 to 1954\n",
      "Data columns (total 20 columns):\n",
      " #   Column                    Non-Null Count  Dtype  \n",
      "---  ------                    --------------  -----  \n",
      " 0   id                        1955 non-null   int64  \n",
      " 1   Age                       1861 non-null   float64\n",
      " 2   TypeofContact             1945 non-null   object \n",
      " 3   CityTier                  1955 non-null   int64  \n",
      " 4   DurationOfPitch           1853 non-null   float64\n",
      " 5   Occupation                1955 non-null   object \n",
      " 6   Gender                    1955 non-null   object \n",
      " 7   NumberOfPersonVisiting    1955 non-null   int64  \n",
      " 8   NumberOfFollowups         1942 non-null   float64\n",
      " 9   ProductPitched            1955 non-null   object \n",
      " 10  PreferredPropertyStar     1945 non-null   float64\n",
      " 11  MaritalStatus             1955 non-null   object \n",
      " 12  NumberOfTrips             1898 non-null   float64\n",
      " 13  Passport                  1955 non-null   int64  \n",
      " 14  PitchSatisfactionScore    1955 non-null   int64  \n",
      " 15  OwnCar                    1955 non-null   int64  \n",
      " 16  NumberOfChildrenVisiting  1928 non-null   float64\n",
      " 17  Designation               1955 non-null   object \n",
      " 18  MonthlyIncome             1855 non-null   float64\n",
      " 19  ProdTaken                 1955 non-null   int64  \n",
      "dtypes: float64(7), int64(7), object(6)\n",
      "memory usage: 305.6+ KB\n"
     ]
    }
   ],
   "source": [
    "train.info()"
   ]
  },
  {
   "cell_type": "markdown",
   "id": "7fd153ef-1682-4a97-991f-5d22777e1f75",
   "metadata": {},
   "source": [
    "- id : 샘플 아이디  \n",
    "- Age : 나이  \n",
    "- TypeofContact : 고객의 제품 인지 방법 (회사의 홍보 or 스스로 검색)  \n",
    "- CityTier : 주거 중인 도시의 등급. (인구, 시설, 생활 수준 기준) (1등급 > 2등급 > 3등급)   \n",
    "- DurationOfPitch : 영업 사원이 고객에게 제공하는 프레젠테이션 기간  \n",
    "- Occupation : 직업  \n",
    "- Gender : 성별  \n",
    "- NumberOfPersonVisiting : 고객과 함께 여행을 계획 중인 총 인원  \n",
    "- NumberOfFollowups : 영업 사원의 프레젠테이션 후 이루어진 후속 조치 수  \n",
    "- ProductPitched : 영업 사원이 제시한 상품  \n",
    "- PreferredPropertyStar : 선호 호텔 숙박업소 등급  \n",
    "- MaritalStatus : 결혼여부  \n",
    "- NumberOfTrips : 평균 연간 여행 횟수  \n",
    "- Passport : 여권 보유 여부 (0: 없음, 1: 있음)  \n",
    "- PitchSatisfactionScore : 영업 사원의 프레젠테이션 만족도  \n",
    "- OwnCar : 자동차 보유 여부 (0: 없음, 1: 있음)  \n",
    "- NumberOfChildrenVisiting : 함께 여행을 계획 중인 5세 미만의 어린이 수  \n",
    "- Designation : (직업의) 직급  \n",
    "- MonthlyIncome : 월 급여  \n",
    "- ProdTaken : 여행 패키지 신청 여부 (0: 신청 안 함, 1: 신청함)  "
   ]
  },
  {
   "cell_type": "markdown",
   "id": "3fdb5d7f-8ca6-4d28-a461-253722989acd",
   "metadata": {},
   "source": [
    "### 1.2 describe() 이용해 데이터 통계량 요약하기"
   ]
  },
  {
   "cell_type": "code",
   "execution_count": 69,
   "id": "1a4a9999-fd82-46b6-acb1-2cfb188b2c8d",
   "metadata": {},
   "outputs": [
    {
     "data": {
      "text/html": [
       "<div>\n",
       "<style scoped>\n",
       "    .dataframe tbody tr th:only-of-type {\n",
       "        vertical-align: middle;\n",
       "    }\n",
       "\n",
       "    .dataframe tbody tr th {\n",
       "        vertical-align: top;\n",
       "    }\n",
       "\n",
       "    .dataframe thead th {\n",
       "        text-align: right;\n",
       "    }\n",
       "</style>\n",
       "<table border=\"1\" class=\"dataframe\">\n",
       "  <thead>\n",
       "    <tr style=\"text-align: right;\">\n",
       "      <th></th>\n",
       "      <th>id</th>\n",
       "      <th>Age</th>\n",
       "      <th>CityTier</th>\n",
       "      <th>DurationOfPitch</th>\n",
       "      <th>NumberOfPersonVisiting</th>\n",
       "      <th>NumberOfFollowups</th>\n",
       "      <th>PreferredPropertyStar</th>\n",
       "      <th>NumberOfTrips</th>\n",
       "      <th>Passport</th>\n",
       "      <th>PitchSatisfactionScore</th>\n",
       "      <th>OwnCar</th>\n",
       "      <th>NumberOfChildrenVisiting</th>\n",
       "      <th>MonthlyIncome</th>\n",
       "      <th>ProdTaken</th>\n",
       "    </tr>\n",
       "  </thead>\n",
       "  <tbody>\n",
       "    <tr>\n",
       "      <th>count</th>\n",
       "      <td>1955.000000</td>\n",
       "      <td>1861.000000</td>\n",
       "      <td>1955.000000</td>\n",
       "      <td>1853.000000</td>\n",
       "      <td>1955.000000</td>\n",
       "      <td>1942.000000</td>\n",
       "      <td>1945.000000</td>\n",
       "      <td>1898.000000</td>\n",
       "      <td>1955.000000</td>\n",
       "      <td>1955.000000</td>\n",
       "      <td>1955.000000</td>\n",
       "      <td>1928.000000</td>\n",
       "      <td>1855.000000</td>\n",
       "      <td>1955.000000</td>\n",
       "    </tr>\n",
       "    <tr>\n",
       "      <th>mean</th>\n",
       "      <td>978.000000</td>\n",
       "      <td>37.462117</td>\n",
       "      <td>1.641432</td>\n",
       "      <td>15.524015</td>\n",
       "      <td>2.922762</td>\n",
       "      <td>3.718332</td>\n",
       "      <td>3.568638</td>\n",
       "      <td>3.255532</td>\n",
       "      <td>0.291049</td>\n",
       "      <td>3.067519</td>\n",
       "      <td>0.619437</td>\n",
       "      <td>1.213174</td>\n",
       "      <td>23624.108895</td>\n",
       "      <td>0.195908</td>\n",
       "    </tr>\n",
       "    <tr>\n",
       "      <th>std</th>\n",
       "      <td>564.504207</td>\n",
       "      <td>9.189948</td>\n",
       "      <td>0.908744</td>\n",
       "      <td>8.150057</td>\n",
       "      <td>0.712276</td>\n",
       "      <td>1.004095</td>\n",
       "      <td>0.793196</td>\n",
       "      <td>1.814698</td>\n",
       "      <td>0.454362</td>\n",
       "      <td>1.372915</td>\n",
       "      <td>0.485649</td>\n",
       "      <td>0.859450</td>\n",
       "      <td>5640.482258</td>\n",
       "      <td>0.397000</td>\n",
       "    </tr>\n",
       "    <tr>\n",
       "      <th>min</th>\n",
       "      <td>1.000000</td>\n",
       "      <td>18.000000</td>\n",
       "      <td>1.000000</td>\n",
       "      <td>5.000000</td>\n",
       "      <td>1.000000</td>\n",
       "      <td>1.000000</td>\n",
       "      <td>3.000000</td>\n",
       "      <td>1.000000</td>\n",
       "      <td>0.000000</td>\n",
       "      <td>1.000000</td>\n",
       "      <td>0.000000</td>\n",
       "      <td>0.000000</td>\n",
       "      <td>1000.000000</td>\n",
       "      <td>0.000000</td>\n",
       "    </tr>\n",
       "    <tr>\n",
       "      <th>25%</th>\n",
       "      <td>489.500000</td>\n",
       "      <td>31.000000</td>\n",
       "      <td>1.000000</td>\n",
       "      <td>9.000000</td>\n",
       "      <td>2.000000</td>\n",
       "      <td>3.000000</td>\n",
       "      <td>3.000000</td>\n",
       "      <td>2.000000</td>\n",
       "      <td>0.000000</td>\n",
       "      <td>2.000000</td>\n",
       "      <td>0.000000</td>\n",
       "      <td>1.000000</td>\n",
       "      <td>20390.000000</td>\n",
       "      <td>0.000000</td>\n",
       "    </tr>\n",
       "    <tr>\n",
       "      <th>50%</th>\n",
       "      <td>978.000000</td>\n",
       "      <td>36.000000</td>\n",
       "      <td>1.000000</td>\n",
       "      <td>14.000000</td>\n",
       "      <td>3.000000</td>\n",
       "      <td>4.000000</td>\n",
       "      <td>3.000000</td>\n",
       "      <td>3.000000</td>\n",
       "      <td>0.000000</td>\n",
       "      <td>3.000000</td>\n",
       "      <td>1.000000</td>\n",
       "      <td>1.000000</td>\n",
       "      <td>22295.000000</td>\n",
       "      <td>0.000000</td>\n",
       "    </tr>\n",
       "    <tr>\n",
       "      <th>75%</th>\n",
       "      <td>1466.500000</td>\n",
       "      <td>43.000000</td>\n",
       "      <td>3.000000</td>\n",
       "      <td>20.000000</td>\n",
       "      <td>3.000000</td>\n",
       "      <td>4.000000</td>\n",
       "      <td>4.000000</td>\n",
       "      <td>4.000000</td>\n",
       "      <td>1.000000</td>\n",
       "      <td>4.000000</td>\n",
       "      <td>1.000000</td>\n",
       "      <td>2.000000</td>\n",
       "      <td>25558.000000</td>\n",
       "      <td>0.000000</td>\n",
       "    </tr>\n",
       "    <tr>\n",
       "      <th>max</th>\n",
       "      <td>1955.000000</td>\n",
       "      <td>61.000000</td>\n",
       "      <td>3.000000</td>\n",
       "      <td>36.000000</td>\n",
       "      <td>5.000000</td>\n",
       "      <td>6.000000</td>\n",
       "      <td>5.000000</td>\n",
       "      <td>19.000000</td>\n",
       "      <td>1.000000</td>\n",
       "      <td>5.000000</td>\n",
       "      <td>1.000000</td>\n",
       "      <td>3.000000</td>\n",
       "      <td>98678.000000</td>\n",
       "      <td>1.000000</td>\n",
       "    </tr>\n",
       "  </tbody>\n",
       "</table>\n",
       "</div>"
      ],
      "text/plain": [
       "                id          Age     CityTier  DurationOfPitch  \\\n",
       "count  1955.000000  1861.000000  1955.000000      1853.000000   \n",
       "mean    978.000000    37.462117     1.641432        15.524015   \n",
       "std     564.504207     9.189948     0.908744         8.150057   \n",
       "min       1.000000    18.000000     1.000000         5.000000   \n",
       "25%     489.500000    31.000000     1.000000         9.000000   \n",
       "50%     978.000000    36.000000     1.000000        14.000000   \n",
       "75%    1466.500000    43.000000     3.000000        20.000000   \n",
       "max    1955.000000    61.000000     3.000000        36.000000   \n",
       "\n",
       "       NumberOfPersonVisiting  NumberOfFollowups  PreferredPropertyStar  \\\n",
       "count             1955.000000        1942.000000            1945.000000   \n",
       "mean                 2.922762           3.718332               3.568638   \n",
       "std                  0.712276           1.004095               0.793196   \n",
       "min                  1.000000           1.000000               3.000000   \n",
       "25%                  2.000000           3.000000               3.000000   \n",
       "50%                  3.000000           4.000000               3.000000   \n",
       "75%                  3.000000           4.000000               4.000000   \n",
       "max                  5.000000           6.000000               5.000000   \n",
       "\n",
       "       NumberOfTrips     Passport  PitchSatisfactionScore       OwnCar  \\\n",
       "count    1898.000000  1955.000000             1955.000000  1955.000000   \n",
       "mean        3.255532     0.291049                3.067519     0.619437   \n",
       "std         1.814698     0.454362                1.372915     0.485649   \n",
       "min         1.000000     0.000000                1.000000     0.000000   \n",
       "25%         2.000000     0.000000                2.000000     0.000000   \n",
       "50%         3.000000     0.000000                3.000000     1.000000   \n",
       "75%         4.000000     1.000000                4.000000     1.000000   \n",
       "max        19.000000     1.000000                5.000000     1.000000   \n",
       "\n",
       "       NumberOfChildrenVisiting  MonthlyIncome    ProdTaken  \n",
       "count               1928.000000    1855.000000  1955.000000  \n",
       "mean                   1.213174   23624.108895     0.195908  \n",
       "std                    0.859450    5640.482258     0.397000  \n",
       "min                    0.000000    1000.000000     0.000000  \n",
       "25%                    1.000000   20390.000000     0.000000  \n",
       "50%                    1.000000   22295.000000     0.000000  \n",
       "75%                    2.000000   25558.000000     0.000000  \n",
       "max                    3.000000   98678.000000     1.000000  "
      ]
     },
     "execution_count": 69,
     "metadata": {},
     "output_type": "execute_result"
    }
   ],
   "source": [
    "train.describe()"
   ]
  },
  {
   "cell_type": "markdown",
   "id": "4184716c-fa5c-40d7-acef-a02674b2eea9",
   "metadata": {},
   "source": [
    "## II. 결측치 확인 및 처리"
   ]
  },
  {
   "cell_type": "code",
   "execution_count": 70,
   "id": "629b9886-cd6e-42b5-8833-edc91ff3d753",
   "metadata": {},
   "outputs": [],
   "source": [
    "a = train.isnull().sum()"
   ]
  },
  {
   "cell_type": "markdown",
   "id": "4e39dfd3-eb24-4e0b-b674-c63412e2127e",
   "metadata": {},
   "source": [
    "\n",
    "**총 8개의 컬럼에 결측치 존재.**\n",
    "- Age\n",
    "- TypeofContact \n",
    "- DurationOfPitch\n",
    "- NumberOfFollowups                     \n",
    "- PreferredPropertyStar     \n",
    "- NumberOfTrips               \n",
    "- NumberOfChildrenVisiting    \n",
    "- MonthlyIncome        \n"
   ]
  },
  {
   "cell_type": "markdown",
   "id": "814050e4-6dd0-4a60-a5fd-93294c05d5e8",
   "metadata": {},
   "source": [
    "### 1.1 데이터 자세히 들여다보기 위해 unique() 사용"
   ]
  },
  {
   "cell_type": "code",
   "execution_count": 71,
   "id": "5ed7fa65-037e-4a27-9cc6-f7cf270ef689",
   "metadata": {},
   "outputs": [
    {
     "name": "stdout",
     "output_type": "stream",
     "text": [
      "[28. 34. 45. 29. 42. 32. 43. 36. 35. 31. 49. nan 52. 33. 22. 50. 23. 41.\n",
      " 37. 40. 56. 54. 39. 20. 46. 27. 38. 25. 26. 24. 30. 21. 51. 47. 55. 44.\n",
      " 53. 48. 18. 57. 60. 59. 19. 58. 61.]\n",
      "['Company Invited' 'Self Enquiry' nan]\n",
      "[10. nan  7.  6. 29.  8. 20. 14.  9. 16. 15. 23. 21. 11. 25. 34. 17. 13.\n",
      " 28. 12. 22. 30. 24. 27. 31. 35. 32. 33. 36. 19. 26. 18.  5.]\n",
      "[ 4.  3.  5.  1.  6.  2. nan]\n",
      "[ 3.  4.  5. nan]\n",
      "[ 3.  1.  2.  7.  4.  6.  5.  8. nan 19.]\n",
      "[ 1.  0.  2.  3. nan]\n",
      "[20384. 19599.    nan ... 31595. 22218. 17853.]\n",
      "['Male' 'Female' 'Fe Male']\n",
      "['Married' 'Single' 'Divorced' 'Unmarried']\n"
     ]
    }
   ],
   "source": [
    "print(train['Age'].unique())\n",
    "print(train['TypeofContact'].unique())\n",
    "print(train['DurationOfPitch'].unique())\n",
    "print(train['NumberOfFollowups'].unique())\n",
    "print(train['PreferredPropertyStar'].unique())\n",
    "print(train['NumberOfTrips'].unique())\n",
    "print(train['NumberOfChildrenVisiting'].unique())\n",
    "print(train['MonthlyIncome'].unique())\n",
    "\n",
    "# 'Fe male' 전처리 해주기\n",
    "print(train['Gender'].unique())\n",
    "# 'Single' -  'Unmarried' 의미가 모호하므로 'Single'로 merge 해주기\n",
    "print(train['MaritalStatus'].unique())"
   ]
  },
  {
   "cell_type": "code",
   "execution_count": 72,
   "id": "16d76555-3bfd-47ed-9774-8459cea1df62",
   "metadata": {},
   "outputs": [],
   "source": [
    "train['Gender'].replace({'Fe Male': 'Female'}, inplace=True)\n",
    "train['MaritalStatus'].replace({'Unmarried': 'Single'}, inplace=True)"
   ]
  },
  {
   "cell_type": "code",
   "execution_count": 73,
   "id": "72e1110f-172c-408a-ab01-1eb55ddc9299",
   "metadata": {},
   "outputs": [
    {
     "name": "stdout",
     "output_type": "stream",
     "text": [
      "['Male' 'Female']\n"
     ]
    }
   ],
   "source": [
    "print(train['Gender'].unique())"
   ]
  },
  {
   "cell_type": "code",
   "execution_count": 74,
   "id": "41d9722b-f390-4315-aaef-2a48a8fcc29c",
   "metadata": {},
   "outputs": [
    {
     "name": "stdout",
     "output_type": "stream",
     "text": [
      "['Married' 'Single' 'Divorced']\n"
     ]
    }
   ],
   "source": [
    "print(train['MaritalStatus'].unique())"
   ]
  },
  {
   "cell_type": "markdown",
   "id": "9b9b4649-af86-4ac5-9cd7-e01291af75a2",
   "metadata": {},
   "source": [
    "### 1.2 Feature 시각화"
   ]
  },
  {
   "cell_type": "code",
   "execution_count": 75,
   "id": "dbbdf946-907d-4442-84e4-268dfc3bb80a",
   "metadata": {},
   "outputs": [
    {
     "data": {
      "text/plain": [
       "<AxesSubplot:xlabel='NumberOfTrips', ylabel='Density'>"
      ]
     },
     "execution_count": 75,
     "metadata": {},
     "output_type": "execute_result"
    },
    {
     "data": {
      "image/png": "[encoded data removed]",
      "text/plain": [
       "<Figure size 1440x1440 with 4 Axes>"
      ]
     },
     "metadata": {
      "needs_background": "light"
     },
     "output_type": "display_data"
    }
   ],
   "source": [
    "fig, ax = plt.subplots(ncols=2, nrows=2, figsize=(20,20))\n",
    "sns.distplot(train['Age'], ax=ax[0,0])\n",
    "sns.distplot(train['DurationOfPitch'], ax=ax[0,1])\n",
    "sns.distplot(train['MonthlyIncome'], ax=ax[1,0])\n",
    "sns.distplot(train['NumberOfTrips'], ax=ax[1,1])"
   ]
  },
  {
   "cell_type": "code",
   "execution_count": 76,
   "id": "84150a16-b243-48a7-86c9-fa6848a1aa11",
   "metadata": {},
   "outputs": [
    {
     "data": {
      "text/plain": [
       "<AxesSubplot:xlabel='NumberOfTrips'>"
      ]
     },
     "execution_count": 76,
     "metadata": {},
     "output_type": "execute_result"
    },
    {
     "data": {
      "image/png": "[encoded data removed]",
      "text/plain": [
       "<Figure size 1440x576 with 4 Axes>"
      ]
     },
     "metadata": {
      "needs_background": "light"
     },
     "output_type": "display_data"
    }
   ],
   "source": [
    "fig, ax = plt.subplots(ncols=2, nrows=2, figsize=(20,8))\n",
    "sns.boxplot(x=train['Age'], ax=ax[0,0])\n",
    "sns.boxplot(x=train['DurationOfPitch'], ax=ax[0,1])\n",
    "sns.boxplot(x=train['MonthlyIncome'], ax=ax[1,0])\n",
    "sns.boxplot(x=train['NumberOfTrips'], ax=ax[1,1])"
   ]
  },
  {
   "cell_type": "markdown",
   "id": "b351b1a7-820e-4cbb-b899-c40e72d2e7ef",
   "metadata": {},
   "source": [
    "- Age는 평균값으로 대체 \n",
    "- TypeofContact(고객의 제품 인지 방법) 컬럼은 결측치를 채우기 모호하므로 unknown으로 대체\n",
    "- DurationOfPitch는 데이터의 편차가 크므로 중앙값으로 대체\n",
    "- NumberOfFollowups 평균값으로 대체\n",
    "- PreferredPropertyStar 평균값으로 대체\n",
    "- NumberOfTrips는 이상치가 존재해 중앙값으로 대체 후 이상치 제거\n",
    "- NumberOfChildrenVisiting 평균값으로 대체 \n",
    "- MonthlyIncome는 중앙값으로 대체"
   ]
  },
  {
   "cell_type": "markdown",
   "id": "e5f08767-d96a-47e5-8faf-24f9d3982dff",
   "metadata": {},
   "source": [
    "## III. 결측값, 이상치 처리"
   ]
  },
  {
   "cell_type": "code",
   "execution_count": 77,
   "id": "b0df8732-85f8-48da-a6eb-a48fca4ecc6b",
   "metadata": {},
   "outputs": [],
   "source": [
    "train['Age']=train['Age'].fillna(train['Age'].mean()).astype('int64')\n",
    "train['DurationOfPitch']=train['DurationOfPitch'].fillna(train['DurationOfPitch'].median()).astype('int64')\n",
    "train['NumberOfFollowups']=train['NumberOfFollowups'].fillna(train['NumberOfFollowups'].mean()).astype('int64')\n",
    "train['PreferredPropertyStar']=train['PreferredPropertyStar'].fillna(train['PreferredPropertyStar'].mean())\n",
    "train['NumberOfTrips']=train['NumberOfTrips'].fillna(train['NumberOfTrips'].median())\n",
    "train['NumberOfChildrenVisiting']=train['NumberOfChildrenVisiting'].fillna(train['NumberOfChildrenVisiting'].mean()).astype('int64')\n",
    "train['MonthlyIncome']=train['MonthlyIncome'].fillna(train['MonthlyIncome'].median())\n",
    "# \"Unknown\"으로 채우는 경우\n",
    "train['TypeofContact'] = train['TypeofContact'].fillna(\"Unknown\")"
   ]
  },
  {
   "cell_type": "code",
   "execution_count": 78,
   "id": "0253d45a-373c-4aea-bd3c-7269ba791c2e",
   "metadata": {},
   "outputs": [],
   "source": [
    "train.drop(train[train.NumberOfTrips > 15 ].index, inplace=True)"
   ]
  },
  {
   "cell_type": "markdown",
   "id": "66d58677-c760-4113-bbd6-6341507ae103",
   "metadata": {},
   "source": [
    "## IIII. 데이터 시각화를 위해 데이터 내보내기"
   ]
  },
  {
   "cell_type": "code",
   "execution_count": 79,
   "id": "863e5376-487b-4a22-b390-6d0d049991ba",
   "metadata": {},
   "outputs": [],
   "source": [
    "train.to_csv('./train_0.1.csv', index=False)"
   ]
  }
 ],
 "metadata": {
  "kernelspec": {
   "display_name": "Python 3 (ipykernel)",
   "language": "python",
   "name": "python3"
  },
  "language_info": {
   "codemirror_mode": {
    "name": "ipython",
    "version": 3
   },
   "file_extension": ".py",
   "mimetype": "text/x-python",
   "name": "python",
   "nbconvert_exporter": "python",
   "pygments_lexer": "ipython3",
   "version": "3.9.12"
  }
 },
 "nbformat": 4,
 "nbformat_minor": 5
}
